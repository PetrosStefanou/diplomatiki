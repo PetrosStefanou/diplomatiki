{
 "cells": [
  {
   "cell_type": "code",
   "execution_count": 1,
   "metadata": {},
   "outputs": [],
   "source": [
    "import matplotlib.pyplot as plt\n",
    "import numpy as np\n",
    "import time\n",
    "import os\n",
    "# from scipy.special import kv\n",
    "# from scipy.integrate import quad\n",
    "from importlib import reload\n",
    "import pickle\n",
    "from scipy.stats import maxwell\n",
    "\n",
    "from pulsars import Pulsars, c, e_charge, e_mass, h\n",
    "import speiser_fun as sf \n",
    "import speiser_fun_cyl as sfc\n",
    "import speiser_integ as si\n",
    "import speiser_plots as sp\n",
    "import speiser_model as sm\n",
    "import speiser_spec as ss"
   ]
  },
  {
   "cell_type": "code",
   "execution_count": 2,
   "metadata": {},
   "outputs": [],
   "source": [
    "k = 500.\n",
    "name = 'crab'\n",
    "pulsar = Pulsars(k)[name]\n",
    "\n",
    "gamma1 = 1.\n",
    "B_0 = pulsar['Blc']\n",
    "omegaB = (e_charge*B_0/(e_mass*c))    #γυροσυχνότητα\n",
    "Rlc = pulsar['rlc']*omegaB/c\n",
    "Delta = pulsar['rlc']/k*omegaB/c\n",
    "q = -1.\n",
    "\n",
    "# gamma0 = np.array([1000., 1.])   #αρχικός παράγοντας Lorentz\n",
    "# init_pos = np.array([0.5])\n",
    "\n",
    "gamma0 = maxwell.rvs(loc = 50, scale = 800, size=4)\n",
    "init_pos = np.array([0.25, 0.5])\n",
    "\n",
    "delta = 50.    #πάχος του φύλλου ρεύματος, αδιάστατο, σε μονάδες [c/ωΒ]\n",
    "\n",
    "T = 20.\n",
    "N = 10**5\n",
    "t = np.linspace(0.0, T*Delta, N)\n"
   ]
  },
  {
   "cell_type": "code",
   "execution_count": 3,
   "metadata": {},
   "outputs": [
    {
     "name": "stdout",
     "output_type": "stream",
     "text": [
      "directory  data8 created\n"
     ]
    }
   ],
   "source": [
    "#Δημιουργία λεξικού με τις παραμέτους της προσωμοίωσης σε αναγνώσιμη και δυαδική μορφή\n",
    "parameters = {'pulsar_name':name, 'char magn field (Blc)':B_0, 'Radius of lc':Rlc, 'multiplicity':k, 'diss zone length':Delta,'diss zone width':delta, \n",
    "              'charge sign':q, 'runtime':T, 'number of t points':N, 'initial lorentz factors':gamma0, \n",
    "              'initial injection positions':init_pos}\n",
    "\n",
    "dir_name = 'data'\n",
    "\n",
    "#Δημιουργεία φακέλου για την αποθηκευση των δεδομένων\n",
    "for i in range(1, 1000):\n",
    "    if not os.path.exists(dir_name):\n",
    "        os.makedirs(dir_name)\n",
    "        print('directory ', dir_name, 'created')\n",
    "        break\n",
    "    else:\n",
    "        dir_name = 'data{}'.format(i)\n",
    "        \n",
    "with open('{}/parameters.txt'.format(dir_name), 'w') as par_file:\n",
    "    for key, val in parameters.items():\n",
    "        par_file.write('{} --> {}\\n'.format(key, val))\n",
    "with open('{}/par_dic.txt'.format(dir_name), 'wb') as par_file:\n",
    "    pickle.dump(parameters, par_file)"
   ]
  },
  {
   "cell_type": "code",
   "execution_count": 4,
   "metadata": {
    "scrolled": true
   },
   "outputs": [
    {
     "name": "stdout",
     "output_type": "stream",
     "text": [
      "0.25\n",
      "runtime for gamma0 = 2475 is 0h 6m 5s\n",
      "runtime for gamma0 = 494 is 0h 2m 44s\n",
      "runtime for gamma0 = 818 is 0h 4m 10s\n",
      "total runtime = 0h 13m 0s\n",
      "0.5\n",
      "runtime for gamma0 = 2475 is 0h 8m 48s\n",
      "runtime for gamma0 = 494 is 0h 3m 40s\n",
      "runtime for gamma0 = 818 is 0h 5m 3s\n",
      "total runtime = 0h 17m 31s\n"
     ]
    }
   ],
   "source": [
    "for w in range(len(init_pos)):\n",
    "    \n",
    "    print(init_pos[w])\n",
    "    \n",
    "    (r, ur, phi, uphi, z_cyl, uz_cyl), dic_cyl = si.oloklirosi(gamma0, Rlc, Delta, delta, B_0, t, init_pos[w], q, T, \n",
    "                                                               sm.speiser_cyl, coord = 'cyl')\n",
    "    \n",
    "    with open('{}/cyl_{}_pos.npz'.format(dir_name, int(100*init_pos[w])), 'wb') as f:\n",
    "        np.savez(f, r = r, ur = ur, phi = phi, uphi = uphi, z_cyl = z_cyl, uz_cyl = uz_cyl)\n",
    "    "
   ]
  },
  {
   "cell_type": "code",
   "execution_count": 5,
   "metadata": {},
   "outputs": [],
   "source": [
    "#υπολογισμός ακτίνας καμπυλότητας, κρίσιμης συχνότητας και απωλειών\n",
    "\n",
    "ss = reload(ss)\n",
    "for w in range(len(init_pos)):\n",
    "    \n",
    "    if not (w == 7):\n",
    "        a = np.load('{}/cyl_{}_pos.npz'.format(dir_name, int(100*init_pos[w])))\n",
    "        r, ur, phi, uphi, z_cyl, uz_cyl = a['r'], a['ur'], a['phi'], a['uphi'], a['z_cyl'], a['uz_cyl']\n",
    "\n",
    "        r_curv, nu_crit, p_rad = ss.rc_nc_pr(r, phi, z_cyl, ur, uphi, uz_cyl, Rlc, Delta, delta, gamma0, B_0)\n",
    "\n",
    "        with open('{}/rc_nc_pr_{}_pos.npz'.format(dir_name, int(100*init_pos[w])), 'wb') as f2:\n",
    "            np.savez(f2, r_curv = r_curv, nu_crit = nu_crit,  p_rad = p_rad)\n",
    "\n",
    "        en, ph_num, ph_num_out, ph_en, ph_en_out, ph_num_tot, ph_en_tot = ss.spectrum(r, nu_crit, p_rad, gamma0, Rlc, t)\n",
    "\n",
    "        with open('{}/spectrum_{}_pos.npz'.format(dir_name, int(100*init_pos[w])), 'wb') as f3:\n",
    "            np.savez(f3, en = en, ph_num = ph_num, ph_num_out = ph_num_out, ph_en = ph_en, ph_en_out = ph_en_out,\n",
    "                     ph_num_tot = ph_num_tot, ph_en_tot = ph_en_tot)"
   ]
  },
  {
   "cell_type": "code",
   "execution_count": null,
   "metadata": {},
   "outputs": [],
   "source": []
  }
 ],
 "metadata": {
  "kernelspec": {
   "display_name": "Python 3",
   "language": "python",
   "name": "python3"
  },
  "language_info": {
   "codemirror_mode": {
    "name": "ipython",
    "version": 3
   },
   "file_extension": ".py",
   "mimetype": "text/x-python",
   "name": "python",
   "nbconvert_exporter": "python",
   "pygments_lexer": "ipython3",
   "version": "3.7.0"
  }
 },
 "nbformat": 4,
 "nbformat_minor": 2
}
