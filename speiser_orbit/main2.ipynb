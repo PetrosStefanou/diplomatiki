{
 "cells": [
  {
   "cell_type": "code",
   "execution_count": 1,
   "metadata": {},
   "outputs": [],
   "source": [
    "import matplotlib.pyplot as plt\n",
    "import numpy as np\n",
    "import time\n",
    "import os\n",
    "# from scipy.special import kv\n",
    "# from scipy.integrate import quad\n",
    "from importlib import reload\n",
    "import pickle\n",
    "from scipy.stats import maxwell\n",
    "\n",
    "from pulsars import Pulsars, c, e_charge, e_mass, h\n",
    "import speiser_fun as sf \n",
    "import speiser_fun_cyl as sfc\n",
    "import speiser_integ as si\n",
    "import speiser_plots as sp\n",
    "import speiser_model as sm\n",
    "import speiser_spec as ss"
   ]
  },
  {
   "cell_type": "code",
   "execution_count": 2,
   "metadata": {},
   "outputs": [],
   "source": [
    "k = 500.\n",
    "name = 'crab'\n",
    "pulsar = Pulsars(k)[name]\n",
    "\n",
    "gamma1 = 1.\n",
    "B_0 = pulsar['Blc']\n",
    "omegaB = (e_charge*B_0/(e_mass*c))    #γυροσυχνότητα\n",
    "Rlc = pulsar['rlc']*omegaB/c\n",
    "Delta = pulsar['rlc']/k*omegaB/c\n",
    "# q = 1.\n",
    "\n",
    "# gamma0 = maxwell.rvs(loc = 0, scale = 350, size=50)\n",
    "\n",
    "# init_pos = np.linspace(0.01, 1., 30)\n",
    "\n",
    "# delta = maxwell.stats(loc = 0, scale = 350, moments = 'm')    #πάχος του φύλλου ρεύματος, αδιάστατο, σε μονάδες [c/ωΒ]\n",
    "\n",
    "delta_init = 500.\n",
    "gamma0 = np.array([600., 1.])   #αρχικός παράγοντας Lorentz\n",
    "init_pos = np.array([1.])\n",
    "\n",
    "\n",
    "T = 150.\n",
    "N = 10**6\n",
    "t = np.linspace(0.0, T*Delta, N)\n"
   ]
  },
  {
   "cell_type": "code",
   "execution_count": 3,
   "metadata": {},
   "outputs": [
    {
     "name": "stdout",
     "output_type": "stream",
     "text": [
      "directory  data10 created\n"
     ]
    }
   ],
   "source": [
    "#Δημιουργία λεξικού με τις παραμέτους της προσωμοίωσης σε αναγνώσιμη και δυαδική μορφή\n",
    "parameters = {'pulsar_name':name, 'char magn field (Blc)':B_0, 'Radius of lc':Rlc, 'multiplicity':k, \n",
    "              'diss zone length':Delta, 'diss zone width':delta_init, 'runtime':T, 'number of t points':N, \n",
    "              'initial lorentz factors':gamma0, 'initial injection positions':init_pos}\n",
    "\n",
    "dir_name = 'data'\n",
    "\n",
    "#Δημιουργεία φακέλου για την αποθηκευση των δεδομένων\n",
    "for i in range(1, 1000):\n",
    "    if not os.path.exists(dir_name):\n",
    "        os.makedirs(dir_name)\n",
    "        print('directory ', dir_name, 'created')\n",
    "        break\n",
    "    else:\n",
    "        dir_name = 'data{}'.format(i)\n",
    "        \n",
    "with open('{}/parameters.txt'.format(dir_name), 'w') as par_file:\n",
    "    for key, val in parameters.items():\n",
    "        par_file.write('{} --> {}\\n'.format(key, val))\n",
    "with open('{}/par_dic.txt'.format(dir_name), 'wb') as par_file:\n",
    "    pickle.dump(parameters, par_file)"
   ]
  },
  {
   "cell_type": "code",
   "execution_count": 4,
   "metadata": {},
   "outputs": [
    {
     "name": "stdout",
     "output_type": "stream",
     "text": [
      "el\n",
      "1.0\n"
     ]
    },
    {
     "name": "stderr",
     "output_type": "stream",
     "text": [
      "/home/petros/anaconda3/lib/python3.7/site-packages/scipy/integrate/odepack.py:236: ODEintWarning: Excess work done on this call (perhaps wrong Dfun type). Run with full_output = 1 to get quantitative information.\n",
      "  warnings.warn(warning_msg, ODEintWarning)\n"
     ]
    },
    {
     "name": "stdout",
     "output_type": "stream",
     "text": [
      "runtime for gamma0 = 600 is 0h 0m 26s\n",
      "total runtime = 0h 0m 26s\n"
     ]
    }
   ],
   "source": [
    "for q in [-1]:\n",
    "    if q == +1:\n",
    "        charge = 'pos'\n",
    "    else:\n",
    "        charge = 'el'\n",
    "    \n",
    "    print(charge)\n",
    "    \n",
    "    for w in range(len(init_pos)):\n",
    "\n",
    "        print(init_pos[w])\n",
    "\n",
    "        (r, ur, phi, uphi, z_cyl, uz_cyl), dic_cyl = si.oloklirosi(gamma0, Rlc, Delta, delta_init, B_0, t, init_pos[w],\n",
    "                                                                   q, T, sm.speiser_cyl, coord = 'cyl')\n",
    "            \n",
    "        with open('{}/cyl_{}_{}_raw.npz'.format(dir_name, int(100*init_pos[w]), charge), 'wb') as f:\n",
    "            np.savez(f, r = r, ur = ur, phi = phi, uphi = uphi, z_cyl = z_cyl, uz_cyl = uz_cyl)"
   ]
  },
  {
   "cell_type": "code",
   "execution_count": 5,
   "metadata": {},
   "outputs": [],
   "source": [
    "for q in [-1]:\n",
    "    if q == +1:\n",
    "        charge = 'pos'\n",
    "    else:\n",
    "        charge = 'el'\n",
    "    for w in range(len(init_pos)):\n",
    "\n",
    "        vec = np.load('{}/cyl_{}_{}_raw.npz'.format(dir_name, int(100*init_pos[w]), charge))\n",
    "        r, ur, phi, uphi, z_cyl, uz_cyl = vec['r'], vec['ur'], vec['phi'], vec['uphi'], vec['z_cyl'], vec['uz_cyl']\n",
    "        for i in range(len(gamma0) - 1):\n",
    "            for j in range(len(r[i])):\n",
    "                if r[i][j] < Rlc - 15*Delta or r[i][j] > Rlc + 15*Delta:\n",
    "    #                     print(i, j, r[i][j])\n",
    "                    r[i][j] = np.NaN\n",
    "                    phi[i][j] = np.NaN\n",
    "                    z_cyl[i][j] = np.NaN\n",
    "                    ur[i][j] = np.NaN\n",
    "                    uphi[i][j] = np.NaN\n",
    "                    uz_cyl[i][j] = np.NaN\n",
    "                if z_cyl[i][j] > 10000*sfc.delta(r[i][j], Rlc, Delta, delta_init) or z_cyl[i][j] < -10000*sfc.delta(r[i][j], Rlc, Delta, delta_init):\n",
    "                    r[i][j] = np.NaN\n",
    "                    phi[i][j] = np.NaN\n",
    "                    z_cyl[i][j] = np.NaN\n",
    "                    ur[i][j] = np.NaN\n",
    "                    uphi[i][j] = np.NaN\n",
    "                    uz_cyl[i][j] = np.NaN\n",
    "        with open('{}/cyl_{}_{}.npz'.format(dir_name, int(100*init_pos[w]), charge), 'wb') as f:       \n",
    "            np.savez(f, r = r, ur = ur, phi = phi, uphi = uphi, z_cyl = z_cyl, uz_cyl = uz_cyl)"
   ]
  },
  {
   "cell_type": "code",
   "execution_count": 6,
   "metadata": {},
   "outputs": [
    {
     "ename": "ValueError",
     "evalue": "too many values to unpack (expected 7)",
     "output_type": "error",
     "traceback": [
      "\u001b[0;31m---------------------------------------------------------------------------\u001b[0m",
      "\u001b[0;31mValueError\u001b[0m                                Traceback (most recent call last)",
      "\u001b[0;32m<ipython-input-6-9dc23b67db39>\u001b[0m in \u001b[0;36m<module>\u001b[0;34m()\u001b[0m\n\u001b[1;32m     20\u001b[0m \u001b[0;34m\u001b[0m\u001b[0m\n\u001b[1;32m     21\u001b[0m             en, ph_num, ph_num_out, ph_en, ph_en_out, ph_num_tot, ph_en_tot = ss.spectrum(r, z_cyl, nu_crit, p_rad, gamma0, \n\u001b[0;32m---> 22\u001b[0;31m                                                                                           Rlc, Delta, delta_init, t)\n\u001b[0m\u001b[1;32m     23\u001b[0m \u001b[0;34m\u001b[0m\u001b[0m\n\u001b[1;32m     24\u001b[0m             \u001b[0;32mwith\u001b[0m \u001b[0mopen\u001b[0m\u001b[0;34m(\u001b[0m\u001b[0;34m'{}/spectrum_{}_{}.npz'\u001b[0m\u001b[0;34m.\u001b[0m\u001b[0mformat\u001b[0m\u001b[0;34m(\u001b[0m\u001b[0mdir_name\u001b[0m\u001b[0;34m,\u001b[0m \u001b[0mint\u001b[0m\u001b[0;34m(\u001b[0m\u001b[0;36m100\u001b[0m\u001b[0;34m*\u001b[0m\u001b[0minit_pos\u001b[0m\u001b[0;34m[\u001b[0m\u001b[0mw\u001b[0m\u001b[0;34m]\u001b[0m\u001b[0;34m)\u001b[0m\u001b[0;34m,\u001b[0m \u001b[0mcharge\u001b[0m\u001b[0;34m)\u001b[0m\u001b[0;34m,\u001b[0m \u001b[0;34m'wb'\u001b[0m\u001b[0;34m)\u001b[0m \u001b[0;32mas\u001b[0m \u001b[0mf3\u001b[0m\u001b[0;34m:\u001b[0m\u001b[0;34m\u001b[0m\u001b[0m\n",
      "\u001b[0;31mValueError\u001b[0m: too many values to unpack (expected 7)"
     ]
    }
   ],
   "source": [
    "#υπολογισμός ακτίνας καμπυλότητας, κρίσιμης συχνότητας και απωλειών\n",
    "\n",
    "ss = reload(ss)\n",
    "for q in [-1]:\n",
    "    if q == +1:\n",
    "        charge = 'pos'\n",
    "    else:\n",
    "        charge = 'el'\n",
    "    \n",
    "    for w in range(len(init_pos)):\n",
    "\n",
    "        if not (w == 7):\n",
    "            a = np.load('{}/cyl_{}_{}.npz'.format(dir_name, int(100*init_pos[w]), charge))\n",
    "            r, ur, phi, uphi, z_cyl, uz_cyl = a['r'], a['ur'], a['phi'], a['uphi'], a['z_cyl'], a['uz_cyl']\n",
    "\n",
    "            r_curv, nu_crit, p_rad = ss.rc_nc_pr(r, phi, z_cyl, ur, uphi, uz_cyl, Rlc, Delta, delta_init, gamma0, B_0)\n",
    "\n",
    "            with open('{}/rc_nc_pr_{}_{}.npz'.format(dir_name, int(100*init_pos[w]), charge), 'wb') as f2:\n",
    "                np.savez(f2, r_curv = r_curv, nu_crit = nu_crit,  p_rad = p_rad)\n",
    "\n",
    "            en, ph_num, ph_num_out, ph_en, ph_en_out, ph_num_tot, ph_en_tot = ss.spectrum(r, z_cyl, nu_crit, p_rad, gamma0, \n",
    "                                                                                          Rlc, Delta, delta_init, t)\n",
    "\n",
    "            with open('{}/spectrum_{}_{}.npz'.format(dir_name, int(100*init_pos[w]), charge), 'wb') as f3:\n",
    "                np.savez(f3, en = en, ph_num = ph_num, ph_num_out = ph_num_out, ph_en = ph_en, ph_en_out = ph_en_out,\n",
    "                         ph_num_tot = ph_num_tot, ph_en_tot = ph_en_tot)"
   ]
  },
  {
   "cell_type": "code",
   "execution_count": null,
   "metadata": {},
   "outputs": [],
   "source": []
  }
 ],
 "metadata": {
  "kernelspec": {
   "display_name": "Python 3",
   "language": "python",
   "name": "python3"
  },
  "language_info": {
   "codemirror_mode": {
    "name": "ipython",
    "version": 3
   },
   "file_extension": ".py",
   "mimetype": "text/x-python",
   "name": "python",
   "nbconvert_exporter": "python",
   "pygments_lexer": "ipython3",
   "version": "3.7.0"
  }
 },
 "nbformat": 4,
 "nbformat_minor": 2
}
